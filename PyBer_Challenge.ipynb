{
 "cells": [
  {
   "cell_type": "markdown",
   "metadata": {},
   "source": [
    "# Pyber Challenge"
   ]
  },
  {
   "cell_type": "markdown",
   "metadata": {},
   "source": [
    "### 4.3 Loading and Reading CSV files"
   ]
  },
  {
   "cell_type": "code",
   "execution_count": null,
   "metadata": {},
   "outputs": [],
   "source": [
    "# Add Matplotlib inline magic command\n",
    "%matplotlib inline\n",
    "# Dependencies and Setup\n",
    "import matplotlib.pyplot as plt\n",
    "import pandas as pd\n",
    "\n",
    "# File to Load (Remember to change these)\n",
    "city_data_to_load = \"Resources/city_data.csv\"\n",
    "ride_data_to_load = \"Resources/ride_data.csv\"\n",
    "\n",
    "# Read the City and Ride Data\n",
    "city_data_df = pd.read_csv(city_data_to_load)\n",
    "ride_data_df = pd.read_csv(ride_data_to_load)"
   ]
  },
  {
   "cell_type": "code",
   "execution_count": null,
   "metadata": {},
   "outputs": [],
   "source": [
    "city_data_df.head()"
   ]
  },
  {
   "cell_type": "markdown",
   "metadata": {},
   "source": [
    "### Merge the DataFrames"
   ]
  },
  {
   "cell_type": "code",
<<<<<<< HEAD
   "execution_count": 3,
   "metadata": {
    "scrolled": true
   },
   "outputs": [
    {
     "data": {
      "text/html": [
       "<div>\n",
       "<style scoped>\n",
       "    .dataframe tbody tr th:only-of-type {\n",
       "        vertical-align: middle;\n",
       "    }\n",
       "\n",
       "    .dataframe tbody tr th {\n",
       "        vertical-align: top;\n",
       "    }\n",
       "\n",
       "    .dataframe thead th {\n",
       "        text-align: right;\n",
       "    }\n",
       "</style>\n",
       "<table border=\"1\" class=\"dataframe\">\n",
       "  <thead>\n",
       "    <tr style=\"text-align: right;\">\n",
       "      <th></th>\n",
       "      <th>city</th>\n",
       "      <th>date</th>\n",
       "      <th>fare</th>\n",
       "      <th>ride_id</th>\n",
       "      <th>driver_count</th>\n",
       "      <th>type</th>\n",
       "    </tr>\n",
       "  </thead>\n",
       "  <tbody>\n",
       "    <tr>\n",
       "      <th>0</th>\n",
       "      <td>Lake Jonathanshire</td>\n",
       "      <td>2019-01-14 10:14:22</td>\n",
       "      <td>13.83</td>\n",
       "      <td>5739410935873</td>\n",
       "      <td>5</td>\n",
       "      <td>Urban</td>\n",
       "    </tr>\n",
       "    <tr>\n",
       "      <th>1</th>\n",
       "      <td>South Michelleport</td>\n",
       "      <td>2019-03-04 18:24:09</td>\n",
       "      <td>30.24</td>\n",
       "      <td>2343912425577</td>\n",
       "      <td>72</td>\n",
       "      <td>Urban</td>\n",
       "    </tr>\n",
       "    <tr>\n",
       "      <th>2</th>\n",
       "      <td>Port Samanthamouth</td>\n",
       "      <td>2019-02-24 04:29:00</td>\n",
       "      <td>33.44</td>\n",
       "      <td>2005065760003</td>\n",
       "      <td>57</td>\n",
       "      <td>Urban</td>\n",
       "    </tr>\n",
       "    <tr>\n",
       "      <th>3</th>\n",
       "      <td>Rodneyfort</td>\n",
       "      <td>2019-02-10 23:22:03</td>\n",
       "      <td>23.44</td>\n",
       "      <td>5149245426178</td>\n",
       "      <td>34</td>\n",
       "      <td>Urban</td>\n",
       "    </tr>\n",
       "    <tr>\n",
       "      <th>4</th>\n",
       "      <td>South Jack</td>\n",
       "      <td>2019-03-06 04:28:35</td>\n",
       "      <td>34.58</td>\n",
       "      <td>3908451377344</td>\n",
       "      <td>46</td>\n",
       "      <td>Urban</td>\n",
       "    </tr>\n",
       "  </tbody>\n",
       "</table>\n",
       "</div>"
      ],
      "text/plain": [
       "                 city                 date   fare        ride_id  \\\n",
       "0  Lake Jonathanshire  2019-01-14 10:14:22  13.83  5739410935873   \n",
       "1  South Michelleport  2019-03-04 18:24:09  30.24  2343912425577   \n",
       "2  Port Samanthamouth  2019-02-24 04:29:00  33.44  2005065760003   \n",
       "3          Rodneyfort  2019-02-10 23:22:03  23.44  5149245426178   \n",
       "4          South Jack  2019-03-06 04:28:35  34.58  3908451377344   \n",
       "\n",
       "   driver_count   type  \n",
       "0             5  Urban  \n",
       "1            72  Urban  \n",
       "2            57  Urban  \n",
       "3            34  Urban  \n",
       "4            46  Urban  "
      ]
     },
     "execution_count": 3,
     "metadata": {},
     "output_type": "execute_result"
    }
   ],
=======
   "execution_count": null,
   "metadata": {
    "scrolled": true
   },
   "outputs": [],
>>>>>>> 2502f29b6dd99339279f9bc69b7e33c4f2f951e7
   "source": [
    "# Combine the data into a single dataset\n",
    "pyber_data_df = pd.merge(ride_data_df, city_data_df, how=\"left\", on=[\"city\", \"city\"])\n",
    "\n",
    "# Display the data table for preview\n",
    "pyber_data_df.head()"
   ]
  },
  {
   "cell_type": "code",
   "execution_count": null,
   "metadata": {},
   "outputs": [],
   "source": []
  },
  {
   "cell_type": "markdown",
   "metadata": {},
   "source": [
    "## Deliverable 1: Get a Summary DataFrame "
   ]
  },
  {
   "cell_type": "code",
<<<<<<< HEAD
   "execution_count": 4,
   "metadata": {},
   "outputs": [
    {
     "data": {
      "text/plain": [
       "type\n",
       "Rural        125\n",
       "Suburban     625\n",
       "Urban       1625\n",
       "Name: ride_id, dtype: int64"
      ]
     },
     "execution_count": 4,
     "metadata": {},
     "output_type": "execute_result"
    }
   ],
=======
   "execution_count": null,
   "metadata": {},
   "outputs": [],
>>>>>>> 2502f29b6dd99339279f9bc69b7e33c4f2f951e7
   "source": [
    "#  1. Get the total rides for each city type\n",
    "ride_count=pyber_data_df.groupby([\"type\"]).count()[\"ride_id\"]\n",
    "ride_count"
   ]
  },
  {
   "cell_type": "code",
<<<<<<< HEAD
   "execution_count": 5,
   "metadata": {},
   "outputs": [
    {
     "data": {
      "text/plain": [
       "type\n",
       "Rural         78\n",
       "Suburban     490\n",
       "Urban       2405\n",
       "Name: driver_count, dtype: int64"
      ]
     },
     "execution_count": 5,
     "metadata": {},
     "output_type": "execute_result"
    }
   ],
=======
   "execution_count": null,
   "metadata": {},
   "outputs": [],
>>>>>>> 2502f29b6dd99339279f9bc69b7e33c4f2f951e7
   "source": [
    "# 2. Get the total drivers for each city type\n",
    "driver_count=city_data_df.groupby([\"type\"]).sum()[\"driver_count\"]\n",
    "driver_count"
   ]
  },
  {
   "cell_type": "code",
<<<<<<< HEAD
   "execution_count": 6,
   "metadata": {},
   "outputs": [
    {
     "data": {
      "text/plain": [
       "type\n",
       "Rural        4327.93\n",
       "Suburban    19356.33\n",
       "Urban       39854.38\n",
       "Name: fare, dtype: float64"
      ]
     },
     "execution_count": 6,
     "metadata": {},
     "output_type": "execute_result"
    }
   ],
=======
   "execution_count": null,
   "metadata": {},
   "outputs": [],
>>>>>>> 2502f29b6dd99339279f9bc69b7e33c4f2f951e7
   "source": [
    "#  3. Get the total amount of fares for each city type\n",
    "fares_amount= pyber_data_df.groupby([\"type\"]).sum()[\"fare\"]\n",
    "fares_amount"
   ]
  },
  {
   "cell_type": "code",
<<<<<<< HEAD
   "execution_count": 7,
   "metadata": {},
   "outputs": [
    {
     "data": {
      "text/plain": [
       "type\n",
       "Rural       34.623440\n",
       "Suburban    30.970128\n",
       "Urban       24.525772\n",
       "Name: fare, dtype: float64"
      ]
     },
     "execution_count": 7,
     "metadata": {},
     "output_type": "execute_result"
    }
   ],
=======
   "execution_count": null,
   "metadata": {},
   "outputs": [],
>>>>>>> 2502f29b6dd99339279f9bc69b7e33c4f2f951e7
   "source": [
    "#  4. Get the average fare per ride for each city type. \n",
    "average_fare_ride=pyber_data_df.groupby([\"type\"]).mean()[\"fare\"]\n",
    "average_fare_ride"
   ]
  },
  {
   "cell_type": "code",
<<<<<<< HEAD
   "execution_count": 8,
   "metadata": {},
   "outputs": [
    {
     "data": {
      "text/plain": [
       "type\n",
       "Rural       55.486282\n",
       "Suburban    39.502714\n",
       "Urban       16.571468\n",
       "dtype: float64"
      ]
     },
     "execution_count": 8,
     "metadata": {},
     "output_type": "execute_result"
    }
   ],
=======
   "execution_count": null,
   "metadata": {},
   "outputs": [],
>>>>>>> 2502f29b6dd99339279f9bc69b7e33c4f2f951e7
   "source": [
    "# 5. Get the average fare per driver for each city type. \n",
    "average_fare_driver=fares_amount/driver_count\n",
    "average_fare_driver"
   ]
  },
  {
   "cell_type": "code",
<<<<<<< HEAD
   "execution_count": 9,
   "metadata": {},
   "outputs": [
    {
     "data": {
      "text/html": [
       "<div>\n",
       "<style scoped>\n",
       "    .dataframe tbody tr th:only-of-type {\n",
       "        vertical-align: middle;\n",
       "    }\n",
       "\n",
       "    .dataframe tbody tr th {\n",
       "        vertical-align: top;\n",
       "    }\n",
       "\n",
       "    .dataframe thead th {\n",
       "        text-align: right;\n",
       "    }\n",
       "</style>\n",
       "<table border=\"1\" class=\"dataframe\">\n",
       "  <thead>\n",
       "    <tr style=\"text-align: right;\">\n",
       "      <th></th>\n",
       "      <th>Total Rides</th>\n",
       "      <th>Total Drivers</th>\n",
       "      <th>Total Fares</th>\n",
       "      <th>Average Fare per Ride</th>\n",
       "      <th>Average Fare per Driver</th>\n",
       "    </tr>\n",
       "    <tr>\n",
       "      <th>type</th>\n",
       "      <th></th>\n",
       "      <th></th>\n",
       "      <th></th>\n",
       "      <th></th>\n",
       "      <th></th>\n",
       "    </tr>\n",
       "  </thead>\n",
       "  <tbody>\n",
       "    <tr>\n",
       "      <th>Rural</th>\n",
       "      <td>125</td>\n",
       "      <td>78</td>\n",
       "      <td>4327.93</td>\n",
       "      <td>34.623440</td>\n",
       "      <td>55.486282</td>\n",
       "    </tr>\n",
       "    <tr>\n",
       "      <th>Suburban</th>\n",
       "      <td>625</td>\n",
       "      <td>490</td>\n",
       "      <td>19356.33</td>\n",
       "      <td>30.970128</td>\n",
       "      <td>39.502714</td>\n",
       "    </tr>\n",
       "    <tr>\n",
       "      <th>Urban</th>\n",
       "      <td>1625</td>\n",
       "      <td>2405</td>\n",
       "      <td>39854.38</td>\n",
       "      <td>24.525772</td>\n",
       "      <td>16.571468</td>\n",
       "    </tr>\n",
       "  </tbody>\n",
       "</table>\n",
       "</div>"
      ],
      "text/plain": [
       "          Total Rides  Total Drivers  Total Fares  Average Fare per Ride  \\\n",
       "type                                                                       \n",
       "Rural             125             78      4327.93              34.623440   \n",
       "Suburban          625            490     19356.33              30.970128   \n",
       "Urban            1625           2405     39854.38              24.525772   \n",
       "\n",
       "          Average Fare per Driver  \n",
       "type                               \n",
       "Rural                   55.486282  \n",
       "Suburban                39.502714  \n",
       "Urban                   16.571468  "
      ]
     },
     "execution_count": 9,
     "metadata": {},
     "output_type": "execute_result"
    }
   ],
=======
   "execution_count": null,
   "metadata": {},
   "outputs": [],
>>>>>>> 2502f29b6dd99339279f9bc69b7e33c4f2f951e7
   "source": [
    "#  6. Create a PyBer summary DataFrame. \n",
    "\n",
    "pyber_summary_df=pd.DataFrame({\n",
    "                                \"Total Rides\":ride_count,\n",
    "                                \"Total Drivers\":driver_count,\n",
    "                                \"Total Fares\":fares_amount,\n",
    "                                \"Average Fare per Ride\":average_fare_ride,\n",
    "                                \"Average Fare per Driver\":average_fare_driver})\n",
    "\n",
    "\n",
    "\n",
    "pyber_summary_df"
   ]
  },
  {
   "cell_type": "code",
<<<<<<< HEAD
   "execution_count": 10,
   "metadata": {},
   "outputs": [
    {
     "data": {
      "text/html": [
       "<div>\n",
       "<style scoped>\n",
       "    .dataframe tbody tr th:only-of-type {\n",
       "        vertical-align: middle;\n",
       "    }\n",
       "\n",
       "    .dataframe tbody tr th {\n",
       "        vertical-align: top;\n",
       "    }\n",
       "\n",
       "    .dataframe thead th {\n",
       "        text-align: right;\n",
       "    }\n",
       "</style>\n",
       "<table border=\"1\" class=\"dataframe\">\n",
       "  <thead>\n",
       "    <tr style=\"text-align: right;\">\n",
       "      <th></th>\n",
       "      <th>Total Rides</th>\n",
       "      <th>Total Drivers</th>\n",
       "      <th>Total Fares</th>\n",
       "      <th>Average Fare per Ride</th>\n",
       "      <th>Average Fare per Driver</th>\n",
       "    </tr>\n",
       "  </thead>\n",
       "  <tbody>\n",
       "    <tr>\n",
       "      <th>Rural</th>\n",
       "      <td>125</td>\n",
       "      <td>78</td>\n",
       "      <td>4327.93</td>\n",
       "      <td>34.623440</td>\n",
       "      <td>55.486282</td>\n",
       "    </tr>\n",
       "    <tr>\n",
       "      <th>Suburban</th>\n",
       "      <td>625</td>\n",
       "      <td>490</td>\n",
       "      <td>19356.33</td>\n",
       "      <td>30.970128</td>\n",
       "      <td>39.502714</td>\n",
       "    </tr>\n",
       "    <tr>\n",
       "      <th>Urban</th>\n",
       "      <td>1625</td>\n",
       "      <td>2405</td>\n",
       "      <td>39854.38</td>\n",
       "      <td>24.525772</td>\n",
       "      <td>16.571468</td>\n",
       "    </tr>\n",
       "  </tbody>\n",
       "</table>\n",
       "</div>"
      ],
      "text/plain": [
       "          Total Rides  Total Drivers  Total Fares  Average Fare per Ride  \\\n",
       "Rural             125             78      4327.93              34.623440   \n",
       "Suburban          625            490     19356.33              30.970128   \n",
       "Urban            1625           2405     39854.38              24.525772   \n",
       "\n",
       "          Average Fare per Driver  \n",
       "Rural                   55.486282  \n",
       "Suburban                39.502714  \n",
       "Urban                   16.571468  "
      ]
     },
     "execution_count": 10,
     "metadata": {},
     "output_type": "execute_result"
    }
   ],
=======
   "execution_count": null,
   "metadata": {},
   "outputs": [],
>>>>>>> 2502f29b6dd99339279f9bc69b7e33c4f2f951e7
   "source": [
    "#  7. Cleaning up the DataFrame. Delete the index name\n",
    "pyber_summary_df.index.name = None\n",
    "pyber_summary_df"
   ]
  },
  {
   "cell_type": "code",
<<<<<<< HEAD
   "execution_count": 11,
   "metadata": {},
   "outputs": [
    {
     "data": {
      "text/html": [
       "<div>\n",
       "<style scoped>\n",
       "    .dataframe tbody tr th:only-of-type {\n",
       "        vertical-align: middle;\n",
       "    }\n",
       "\n",
       "    .dataframe tbody tr th {\n",
       "        vertical-align: top;\n",
       "    }\n",
       "\n",
       "    .dataframe thead th {\n",
       "        text-align: right;\n",
       "    }\n",
       "</style>\n",
       "<table border=\"1\" class=\"dataframe\">\n",
       "  <thead>\n",
       "    <tr style=\"text-align: right;\">\n",
       "      <th></th>\n",
       "      <th>Total Rides</th>\n",
       "      <th>Total Drivers</th>\n",
       "      <th>Total Fares</th>\n",
       "      <th>Average Fare per Ride</th>\n",
       "      <th>Average Fare per Driver</th>\n",
       "    </tr>\n",
       "  </thead>\n",
       "  <tbody>\n",
       "    <tr>\n",
       "      <th>Rural</th>\n",
       "      <td>125</td>\n",
       "      <td>78</td>\n",
       "      <td>$4,327.93</td>\n",
       "      <td>$34.62</td>\n",
       "      <td>55.49</td>\n",
       "    </tr>\n",
       "    <tr>\n",
       "      <th>Suburban</th>\n",
       "      <td>625</td>\n",
       "      <td>490</td>\n",
       "      <td>$19,356.33</td>\n",
       "      <td>$30.97</td>\n",
       "      <td>39.50</td>\n",
       "    </tr>\n",
       "    <tr>\n",
       "      <th>Urban</th>\n",
       "      <td>1,625</td>\n",
       "      <td>2,405</td>\n",
       "      <td>$39,854.38</td>\n",
       "      <td>$24.53</td>\n",
       "      <td>16.57</td>\n",
       "    </tr>\n",
       "  </tbody>\n",
       "</table>\n",
       "</div>"
      ],
      "text/plain": [
       "         Total Rides Total Drivers Total Fares Average Fare per Ride  \\\n",
       "Rural            125            78   $4,327.93                $34.62   \n",
       "Suburban         625           490  $19,356.33                $30.97   \n",
       "Urban          1,625         2,405  $39,854.38                $24.53   \n",
       "\n",
       "         Average Fare per Driver  \n",
       "Rural                      55.49  \n",
       "Suburban                   39.50  \n",
       "Urban                      16.57  "
      ]
     },
     "execution_count": 11,
     "metadata": {},
     "output_type": "execute_result"
    }
   ],
=======
   "execution_count": null,
   "metadata": {},
   "outputs": [],
>>>>>>> 2502f29b6dd99339279f9bc69b7e33c4f2f951e7
   "source": [
    "#  8. Format the columns.\n",
    "pyber_summary_df[\"Total Rides\"] = pyber_summary_df[\"Total Rides\"].map(\"{:,.0f}\".format)\n",
    "pyber_summary_df[\"Total Drivers\"] = pyber_summary_df[\"Total Drivers\"].map(\"{:,.0f}\".format)\n",
    "pyber_summary_df[\"Total Fares\"] = pyber_summary_df[\"Total Fares\"].map(\"${:,.2f}\".format)\n",
    "pyber_summary_df[\"Average Fare per Ride\"] = pyber_summary_df[\"Average Fare per Ride\"].map(\"${:.2f}\".format)\n",
    "pyber_summary_df[\"Average Fare per Driver\"] = pyber_summary_df[\"Average Fare per Driver\"].map(\"{:.2f}\".format)\n",
    "\n",
    "pyber_summary_df"
   ]
  },
  {
   "cell_type": "markdown",
   "metadata": {},
   "source": [
    "## Deliverable 2.  Create a multiple line plot that shows the total weekly of the fares for each type of city."
   ]
  },
  {
   "cell_type": "code",
<<<<<<< HEAD
   "execution_count": 12,
   "metadata": {},
   "outputs": [
    {
     "data": {
      "text/html": [
       "<div>\n",
       "<style scoped>\n",
       "    .dataframe tbody tr th:only-of-type {\n",
       "        vertical-align: middle;\n",
       "    }\n",
       "\n",
       "    .dataframe tbody tr th {\n",
       "        vertical-align: top;\n",
       "    }\n",
       "\n",
       "    .dataframe thead th {\n",
       "        text-align: right;\n",
       "    }\n",
       "</style>\n",
       "<table border=\"1\" class=\"dataframe\">\n",
       "  <thead>\n",
       "    <tr style=\"text-align: right;\">\n",
       "      <th></th>\n",
       "      <th>city</th>\n",
       "      <th>date</th>\n",
       "      <th>fare</th>\n",
       "      <th>ride_id</th>\n",
       "      <th>driver_count</th>\n",
       "      <th>type</th>\n",
       "    </tr>\n",
       "  </thead>\n",
       "  <tbody>\n",
       "    <tr>\n",
       "      <th>0</th>\n",
       "      <td>Lake Jonathanshire</td>\n",
       "      <td>2019-01-14 10:14:22</td>\n",
       "      <td>13.83</td>\n",
       "      <td>5739410935873</td>\n",
       "      <td>5</td>\n",
       "      <td>Urban</td>\n",
       "    </tr>\n",
       "    <tr>\n",
       "      <th>1</th>\n",
       "      <td>South Michelleport</td>\n",
       "      <td>2019-03-04 18:24:09</td>\n",
       "      <td>30.24</td>\n",
       "      <td>2343912425577</td>\n",
       "      <td>72</td>\n",
       "      <td>Urban</td>\n",
       "    </tr>\n",
       "    <tr>\n",
       "      <th>2</th>\n",
       "      <td>Port Samanthamouth</td>\n",
       "      <td>2019-02-24 04:29:00</td>\n",
       "      <td>33.44</td>\n",
       "      <td>2005065760003</td>\n",
       "      <td>57</td>\n",
       "      <td>Urban</td>\n",
       "    </tr>\n",
       "    <tr>\n",
       "      <th>3</th>\n",
       "      <td>Rodneyfort</td>\n",
       "      <td>2019-02-10 23:22:03</td>\n",
       "      <td>23.44</td>\n",
       "      <td>5149245426178</td>\n",
       "      <td>34</td>\n",
       "      <td>Urban</td>\n",
       "    </tr>\n",
       "    <tr>\n",
       "      <th>4</th>\n",
       "      <td>South Jack</td>\n",
       "      <td>2019-03-06 04:28:35</td>\n",
       "      <td>34.58</td>\n",
       "      <td>3908451377344</td>\n",
       "      <td>46</td>\n",
       "      <td>Urban</td>\n",
       "    </tr>\n",
       "  </tbody>\n",
       "</table>\n",
       "</div>"
      ],
      "text/plain": [
       "                 city                 date   fare        ride_id  \\\n",
       "0  Lake Jonathanshire  2019-01-14 10:14:22  13.83  5739410935873   \n",
       "1  South Michelleport  2019-03-04 18:24:09  30.24  2343912425577   \n",
       "2  Port Samanthamouth  2019-02-24 04:29:00  33.44  2005065760003   \n",
       "3          Rodneyfort  2019-02-10 23:22:03  23.44  5149245426178   \n",
       "4          South Jack  2019-03-06 04:28:35  34.58  3908451377344   \n",
       "\n",
       "   driver_count   type  \n",
       "0             5  Urban  \n",
       "1            72  Urban  \n",
       "2            57  Urban  \n",
       "3            34  Urban  \n",
       "4            46  Urban  "
      ]
     },
     "execution_count": 12,
     "metadata": {},
     "output_type": "execute_result"
    }
   ],
=======
   "execution_count": null,
   "metadata": {},
   "outputs": [],
>>>>>>> 2502f29b6dd99339279f9bc69b7e33c4f2f951e7
   "source": [
    "\n",
    "# 1. Read the merged DataFrame\n",
    "\n",
    "pyber_data_df.head()"
   ]
  },
  {
   "cell_type": "code",
<<<<<<< HEAD
   "execution_count": 13,
   "metadata": {},
   "outputs": [
    {
     "data": {
      "text/html": [
       "<div>\n",
       "<style scoped>\n",
       "    .dataframe tbody tr th:only-of-type {\n",
       "        vertical-align: middle;\n",
       "    }\n",
       "\n",
       "    .dataframe tbody tr th {\n",
       "        vertical-align: top;\n",
       "    }\n",
       "\n",
       "    .dataframe thead th {\n",
       "        text-align: right;\n",
       "    }\n",
       "</style>\n",
       "<table border=\"1\" class=\"dataframe\">\n",
       "  <thead>\n",
       "    <tr style=\"text-align: right;\">\n",
       "      <th></th>\n",
       "      <th></th>\n",
       "      <th>fare</th>\n",
       "    </tr>\n",
       "    <tr>\n",
       "      <th>type</th>\n",
       "      <th>date</th>\n",
       "      <th></th>\n",
       "    </tr>\n",
       "  </thead>\n",
       "  <tbody>\n",
       "    <tr>\n",
       "      <th rowspan=\"5\" valign=\"top\">Rural</th>\n",
       "      <th>2019-01-01 09:45:36</th>\n",
       "      <td>43.69</td>\n",
       "    </tr>\n",
       "    <tr>\n",
       "      <th>2019-01-02 11:18:32</th>\n",
       "      <td>52.12</td>\n",
       "    </tr>\n",
       "    <tr>\n",
       "      <th>2019-01-03 19:51:01</th>\n",
       "      <td>19.90</td>\n",
       "    </tr>\n",
       "    <tr>\n",
       "      <th>2019-01-04 03:31:26</th>\n",
       "      <td>24.88</td>\n",
       "    </tr>\n",
       "    <tr>\n",
       "      <th>2019-01-06 07:38:40</th>\n",
       "      <td>47.33</td>\n",
       "    </tr>\n",
       "    <tr>\n",
       "      <th>...</th>\n",
       "      <th>...</th>\n",
       "      <td>...</td>\n",
       "    </tr>\n",
       "    <tr>\n",
       "      <th rowspan=\"5\" valign=\"top\">Urban</th>\n",
       "      <th>2019-05-08 04:20:00</th>\n",
       "      <td>21.99</td>\n",
       "    </tr>\n",
       "    <tr>\n",
       "      <th>2019-05-08 04:39:49</th>\n",
       "      <td>18.45</td>\n",
       "    </tr>\n",
       "    <tr>\n",
       "      <th>2019-05-08 07:29:01</th>\n",
       "      <td>18.55</td>\n",
       "    </tr>\n",
       "    <tr>\n",
       "      <th>2019-05-08 11:38:35</th>\n",
       "      <td>19.77</td>\n",
       "    </tr>\n",
       "    <tr>\n",
       "      <th>2019-05-08 13:10:18</th>\n",
       "      <td>18.04</td>\n",
       "    </tr>\n",
       "  </tbody>\n",
       "</table>\n",
       "<p>2375 rows × 1 columns</p>\n",
       "</div>"
      ],
      "text/plain": [
       "                            fare\n",
       "type  date                      \n",
       "Rural 2019-01-01 09:45:36  43.69\n",
       "      2019-01-02 11:18:32  52.12\n",
       "      2019-01-03 19:51:01  19.90\n",
       "      2019-01-04 03:31:26  24.88\n",
       "      2019-01-06 07:38:40  47.33\n",
       "...                          ...\n",
       "Urban 2019-05-08 04:20:00  21.99\n",
       "      2019-05-08 04:39:49  18.45\n",
       "      2019-05-08 07:29:01  18.55\n",
       "      2019-05-08 11:38:35  19.77\n",
       "      2019-05-08 13:10:18  18.04\n",
       "\n",
       "[2375 rows x 1 columns]"
      ]
     },
     "execution_count": 13,
     "metadata": {},
     "output_type": "execute_result"
    }
   ],
=======
   "execution_count": null,
   "metadata": {},
   "outputs": [],
>>>>>>> 2502f29b6dd99339279f9bc69b7e33c4f2f951e7
   "source": [
    "# Step 9\n",
    "#2. Using groupby() to create a new DataFrame showing the sum of the fares \n",
    "#  for each date where the indices are the city type and date.\n",
    "\n",
    "total_fare_date_df = pyber_data_df.groupby([\"type\",\"date\"])[[\"fare\"]].sum()\n",
    "total_fare_date_df\n",
    "\n",
    "\n"
   ]
  },
  {
   "cell_type": "code",
<<<<<<< HEAD
   "execution_count": 14,
   "metadata": {},
   "outputs": [
    {
     "data": {
      "text/html": [
       "<div>\n",
       "<style scoped>\n",
       "    .dataframe tbody tr th:only-of-type {\n",
       "        vertical-align: middle;\n",
       "    }\n",
       "\n",
       "    .dataframe tbody tr th {\n",
       "        vertical-align: top;\n",
       "    }\n",
       "\n",
       "    .dataframe thead th {\n",
       "        text-align: right;\n",
       "    }\n",
       "</style>\n",
       "<table border=\"1\" class=\"dataframe\">\n",
       "  <thead>\n",
       "    <tr style=\"text-align: right;\">\n",
       "      <th></th>\n",
       "      <th>type</th>\n",
       "      <th>date</th>\n",
       "      <th>fare</th>\n",
       "    </tr>\n",
       "  </thead>\n",
       "  <tbody>\n",
       "    <tr>\n",
       "      <th>0</th>\n",
       "      <td>Rural</td>\n",
       "      <td>2019-01-01 09:45:36</td>\n",
       "      <td>43.69</td>\n",
       "    </tr>\n",
       "    <tr>\n",
       "      <th>1</th>\n",
       "      <td>Rural</td>\n",
       "      <td>2019-01-02 11:18:32</td>\n",
       "      <td>52.12</td>\n",
       "    </tr>\n",
       "    <tr>\n",
       "      <th>2</th>\n",
       "      <td>Rural</td>\n",
       "      <td>2019-01-03 19:51:01</td>\n",
       "      <td>19.90</td>\n",
       "    </tr>\n",
       "    <tr>\n",
       "      <th>3</th>\n",
       "      <td>Rural</td>\n",
       "      <td>2019-01-04 03:31:26</td>\n",
       "      <td>24.88</td>\n",
       "    </tr>\n",
       "    <tr>\n",
       "      <th>4</th>\n",
       "      <td>Rural</td>\n",
       "      <td>2019-01-06 07:38:40</td>\n",
       "      <td>47.33</td>\n",
       "    </tr>\n",
       "    <tr>\n",
       "      <th>...</th>\n",
       "      <td>...</td>\n",
       "      <td>...</td>\n",
       "      <td>...</td>\n",
       "    </tr>\n",
       "    <tr>\n",
       "      <th>2370</th>\n",
       "      <td>Urban</td>\n",
       "      <td>2019-05-08 04:20:00</td>\n",
       "      <td>21.99</td>\n",
       "    </tr>\n",
       "    <tr>\n",
       "      <th>2371</th>\n",
       "      <td>Urban</td>\n",
       "      <td>2019-05-08 04:39:49</td>\n",
       "      <td>18.45</td>\n",
       "    </tr>\n",
       "    <tr>\n",
       "      <th>2372</th>\n",
       "      <td>Urban</td>\n",
       "      <td>2019-05-08 07:29:01</td>\n",
       "      <td>18.55</td>\n",
       "    </tr>\n",
       "    <tr>\n",
       "      <th>2373</th>\n",
       "      <td>Urban</td>\n",
       "      <td>2019-05-08 11:38:35</td>\n",
       "      <td>19.77</td>\n",
       "    </tr>\n",
       "    <tr>\n",
       "      <th>2374</th>\n",
       "      <td>Urban</td>\n",
       "      <td>2019-05-08 13:10:18</td>\n",
       "      <td>18.04</td>\n",
       "    </tr>\n",
       "  </tbody>\n",
       "</table>\n",
       "<p>2375 rows × 3 columns</p>\n",
       "</div>"
      ],
      "text/plain": [
       "       type                 date   fare\n",
       "0     Rural  2019-01-01 09:45:36  43.69\n",
       "1     Rural  2019-01-02 11:18:32  52.12\n",
       "2     Rural  2019-01-03 19:51:01  19.90\n",
       "3     Rural  2019-01-04 03:31:26  24.88\n",
       "4     Rural  2019-01-06 07:38:40  47.33\n",
       "...     ...                  ...    ...\n",
       "2370  Urban  2019-05-08 04:20:00  21.99\n",
       "2371  Urban  2019-05-08 04:39:49  18.45\n",
       "2372  Urban  2019-05-08 07:29:01  18.55\n",
       "2373  Urban  2019-05-08 11:38:35  19.77\n",
       "2374  Urban  2019-05-08 13:10:18  18.04\n",
       "\n",
       "[2375 rows x 3 columns]"
      ]
     },
     "execution_count": 14,
     "metadata": {},
     "output_type": "execute_result"
    }
   ],
=======
   "execution_count": null,
   "metadata": {},
   "outputs": [],
>>>>>>> 2502f29b6dd99339279f9bc69b7e33c4f2f951e7
   "source": [
    "# Step 10\n",
    "#3. Reset the index on the DataFrame you created in #1. This is needed to use the 'pivot()' function.\n",
    "total_fare_date_df = total_fare_date_df.reset_index()\n",
    "total_fare_date_df"
   ]
  },
  {
   "cell_type": "code",
<<<<<<< HEAD
   "execution_count": 15,
   "metadata": {},
   "outputs": [
    {
     "data": {
      "text/html": [
       "<div>\n",
       "<style scoped>\n",
       "    .dataframe tbody tr th:only-of-type {\n",
       "        vertical-align: middle;\n",
       "    }\n",
       "\n",
       "    .dataframe tbody tr th {\n",
       "        vertical-align: top;\n",
       "    }\n",
       "\n",
       "    .dataframe thead th {\n",
       "        text-align: right;\n",
       "    }\n",
       "</style>\n",
       "<table border=\"1\" class=\"dataframe\">\n",
       "  <thead>\n",
       "    <tr style=\"text-align: right;\">\n",
       "      <th>type</th>\n",
       "      <th>Rural</th>\n",
       "      <th>Suburban</th>\n",
       "      <th>Urban</th>\n",
       "    </tr>\n",
       "    <tr>\n",
       "      <th>date</th>\n",
       "      <th></th>\n",
       "      <th></th>\n",
       "      <th></th>\n",
       "    </tr>\n",
       "  </thead>\n",
       "  <tbody>\n",
       "    <tr>\n",
       "      <th>2019-01-01 00:08:16</th>\n",
       "      <td>NaN</td>\n",
       "      <td>NaN</td>\n",
       "      <td>37.91</td>\n",
       "    </tr>\n",
       "    <tr>\n",
       "      <th>2019-01-01 00:46:46</th>\n",
       "      <td>NaN</td>\n",
       "      <td>47.74</td>\n",
       "      <td>NaN</td>\n",
       "    </tr>\n",
       "    <tr>\n",
       "      <th>2019-01-01 02:07:24</th>\n",
       "      <td>NaN</td>\n",
       "      <td>24.07</td>\n",
       "      <td>NaN</td>\n",
       "    </tr>\n",
       "    <tr>\n",
       "      <th>2019-01-01 03:46:50</th>\n",
       "      <td>NaN</td>\n",
       "      <td>NaN</td>\n",
       "      <td>7.57</td>\n",
       "    </tr>\n",
       "    <tr>\n",
       "      <th>2019-01-01 05:23:21</th>\n",
       "      <td>NaN</td>\n",
       "      <td>NaN</td>\n",
       "      <td>10.75</td>\n",
       "    </tr>\n",
       "    <tr>\n",
       "      <th>...</th>\n",
       "      <td>...</td>\n",
       "      <td>...</td>\n",
       "      <td>...</td>\n",
       "    </tr>\n",
       "    <tr>\n",
       "      <th>2019-05-08 04:20:00</th>\n",
       "      <td>NaN</td>\n",
       "      <td>NaN</td>\n",
       "      <td>21.99</td>\n",
       "    </tr>\n",
       "    <tr>\n",
       "      <th>2019-05-08 04:39:49</th>\n",
       "      <td>NaN</td>\n",
       "      <td>NaN</td>\n",
       "      <td>18.45</td>\n",
       "    </tr>\n",
       "    <tr>\n",
       "      <th>2019-05-08 07:29:01</th>\n",
       "      <td>NaN</td>\n",
       "      <td>NaN</td>\n",
       "      <td>18.55</td>\n",
       "    </tr>\n",
       "    <tr>\n",
       "      <th>2019-05-08 11:38:35</th>\n",
       "      <td>NaN</td>\n",
       "      <td>NaN</td>\n",
       "      <td>19.77</td>\n",
       "    </tr>\n",
       "    <tr>\n",
       "      <th>2019-05-08 13:10:18</th>\n",
       "      <td>NaN</td>\n",
       "      <td>NaN</td>\n",
       "      <td>18.04</td>\n",
       "    </tr>\n",
       "  </tbody>\n",
       "</table>\n",
       "<p>2375 rows × 3 columns</p>\n",
       "</div>"
      ],
      "text/plain": [
       "type                 Rural  Suburban  Urban\n",
       "date                                       \n",
       "2019-01-01 00:08:16    NaN       NaN  37.91\n",
       "2019-01-01 00:46:46    NaN     47.74    NaN\n",
       "2019-01-01 02:07:24    NaN     24.07    NaN\n",
       "2019-01-01 03:46:50    NaN       NaN   7.57\n",
       "2019-01-01 05:23:21    NaN       NaN  10.75\n",
       "...                    ...       ...    ...\n",
       "2019-05-08 04:20:00    NaN       NaN  21.99\n",
       "2019-05-08 04:39:49    NaN       NaN  18.45\n",
       "2019-05-08 07:29:01    NaN       NaN  18.55\n",
       "2019-05-08 11:38:35    NaN       NaN  19.77\n",
       "2019-05-08 13:10:18    NaN       NaN  18.04\n",
       "\n",
       "[2375 rows x 3 columns]"
      ]
     },
     "execution_count": 15,
     "metadata": {},
     "output_type": "execute_result"
    }
   ],
=======
   "execution_count": null,
   "metadata": {},
   "outputs": [],
>>>>>>> 2502f29b6dd99339279f9bc69b7e33c4f2f951e7
   "source": [
    "# Step 11\n",
    "# 4. Create a pivot table with the 'date' as the index, the columns ='type', and values='fare' \n",
    "# to get the total fares for each type of city by the date. \n",
    "\n",
    "pivot_df=total_fare_date_df.pivot(index='date', columns='type', values='fare')\n",
    "pivot_df"
   ]
  },
  {
   "cell_type": "code",
<<<<<<< HEAD
   "execution_count": 16,
   "metadata": {},
   "outputs": [
    {
     "data": {
      "text/html": [
       "<div>\n",
       "<style scoped>\n",
       "    .dataframe tbody tr th:only-of-type {\n",
       "        vertical-align: middle;\n",
       "    }\n",
       "\n",
       "    .dataframe tbody tr th {\n",
       "        vertical-align: top;\n",
       "    }\n",
       "\n",
       "    .dataframe thead th {\n",
       "        text-align: right;\n",
       "    }\n",
       "</style>\n",
       "<table border=\"1\" class=\"dataframe\">\n",
       "  <thead>\n",
       "    <tr style=\"text-align: right;\">\n",
       "      <th>type</th>\n",
       "      <th>Rural</th>\n",
       "      <th>Suburban</th>\n",
       "      <th>Urban</th>\n",
       "    </tr>\n",
       "    <tr>\n",
       "      <th>date</th>\n",
       "      <th></th>\n",
       "      <th></th>\n",
       "      <th></th>\n",
       "    </tr>\n",
       "  </thead>\n",
       "  <tbody>\n",
       "    <tr>\n",
       "      <th>2019-01-01 00:08:16</th>\n",
       "      <td>NaN</td>\n",
       "      <td>NaN</td>\n",
       "      <td>37.91</td>\n",
       "    </tr>\n",
       "    <tr>\n",
       "      <th>2019-01-01 00:46:46</th>\n",
       "      <td>NaN</td>\n",
       "      <td>47.74</td>\n",
       "      <td>NaN</td>\n",
       "    </tr>\n",
       "    <tr>\n",
       "      <th>2019-01-01 02:07:24</th>\n",
       "      <td>NaN</td>\n",
       "      <td>24.07</td>\n",
       "      <td>NaN</td>\n",
       "    </tr>\n",
       "    <tr>\n",
       "      <th>2019-01-01 03:46:50</th>\n",
       "      <td>NaN</td>\n",
       "      <td>NaN</td>\n",
       "      <td>7.57</td>\n",
       "    </tr>\n",
       "    <tr>\n",
       "      <th>2019-01-01 05:23:21</th>\n",
       "      <td>NaN</td>\n",
       "      <td>NaN</td>\n",
       "      <td>10.75</td>\n",
       "    </tr>\n",
       "    <tr>\n",
       "      <th>...</th>\n",
       "      <td>...</td>\n",
       "      <td>...</td>\n",
       "      <td>...</td>\n",
       "    </tr>\n",
       "    <tr>\n",
       "      <th>2019-04-28 14:28:36</th>\n",
       "      <td>NaN</td>\n",
       "      <td>NaN</td>\n",
       "      <td>11.46</td>\n",
       "    </tr>\n",
       "    <tr>\n",
       "      <th>2019-04-28 16:29:16</th>\n",
       "      <td>NaN</td>\n",
       "      <td>NaN</td>\n",
       "      <td>36.42</td>\n",
       "    </tr>\n",
       "    <tr>\n",
       "      <th>2019-04-28 17:26:52</th>\n",
       "      <td>NaN</td>\n",
       "      <td>NaN</td>\n",
       "      <td>31.43</td>\n",
       "    </tr>\n",
       "    <tr>\n",
       "      <th>2019-04-28 17:38:09</th>\n",
       "      <td>NaN</td>\n",
       "      <td>34.87</td>\n",
       "      <td>NaN</td>\n",
       "    </tr>\n",
       "    <tr>\n",
       "      <th>2019-04-28 19:35:03</th>\n",
       "      <td>NaN</td>\n",
       "      <td>16.96</td>\n",
       "      <td>NaN</td>\n",
       "    </tr>\n",
       "  </tbody>\n",
       "</table>\n",
       "<p>2196 rows × 3 columns</p>\n",
       "</div>"
      ],
      "text/plain": [
       "type                 Rural  Suburban  Urban\n",
       "date                                       \n",
       "2019-01-01 00:08:16    NaN       NaN  37.91\n",
       "2019-01-01 00:46:46    NaN     47.74    NaN\n",
       "2019-01-01 02:07:24    NaN     24.07    NaN\n",
       "2019-01-01 03:46:50    NaN       NaN   7.57\n",
       "2019-01-01 05:23:21    NaN       NaN  10.75\n",
       "...                    ...       ...    ...\n",
       "2019-04-28 14:28:36    NaN       NaN  11.46\n",
       "2019-04-28 16:29:16    NaN       NaN  36.42\n",
       "2019-04-28 17:26:52    NaN       NaN  31.43\n",
       "2019-04-28 17:38:09    NaN     34.87    NaN\n",
       "2019-04-28 19:35:03    NaN     16.96    NaN\n",
       "\n",
       "[2196 rows x 3 columns]"
      ]
     },
     "execution_count": 16,
     "metadata": {},
     "output_type": "execute_result"
    }
   ],
=======
   "execution_count": null,
   "metadata": {},
   "outputs": [],
>>>>>>> 2502f29b6dd99339279f9bc69b7e33c4f2f951e7
   "source": [
    "# Step 12 \n",
    "# Create a new DataFrame from the pivot table DataFrame using loc on the given dates, '2019-01-01':'2019-04-29'.\n",
    "new_pivot_df=pivot_df.loc[\"2019-01-01\":\"2019-04-29\"]\n",
    "new_pivot_df"
   ]
  },
  {
   "cell_type": "code",
<<<<<<< HEAD
   "execution_count": 17,
   "metadata": {},
   "outputs": [
    {
     "data": {
      "text/plain": [
       "DatetimeIndex(['2019-01-01 00:08:16', '2019-01-01 00:46:46',\n",
       "               '2019-01-01 02:07:24', '2019-01-01 03:46:50',\n",
       "               '2019-01-01 05:23:21', '2019-01-01 09:45:36',\n",
       "               '2019-01-01 12:32:48', '2019-01-01 14:40:14',\n",
       "               '2019-01-01 14:42:25', '2019-01-01 14:52:06',\n",
       "               ...\n",
       "               '2019-04-28 09:25:03', '2019-04-28 10:54:14',\n",
       "               '2019-04-28 11:40:49', '2019-04-28 11:49:26',\n",
       "               '2019-04-28 12:48:34', '2019-04-28 14:28:36',\n",
       "               '2019-04-28 16:29:16', '2019-04-28 17:26:52',\n",
       "               '2019-04-28 17:38:09', '2019-04-28 19:35:03'],\n",
       "              dtype='datetime64[ns]', name='date', length=2196, freq=None)"
      ]
     },
     "execution_count": 17,
     "metadata": {},
     "output_type": "execute_result"
    }
   ],
=======
   "execution_count": null,
   "metadata": {},
   "outputs": [],
>>>>>>> 2502f29b6dd99339279f9bc69b7e33c4f2f951e7
   "source": [
    "# Step 13\n",
    "# 6. Set the \"date\" index to datetime datatype. This is necessary to use the resample() method in Step 15.\n",
    "new_pivot_df.index = pd.to_datetime(new_pivot_df.index)\n",
    "new_pivot_df.index"
   ]
  },
  {
   "cell_type": "code",
<<<<<<< HEAD
   "execution_count": 18,
=======
   "execution_count": null,
>>>>>>> 2502f29b6dd99339279f9bc69b7e33c4f2f951e7
   "metadata": {},
   "outputs": [],
   "source": [
    "# Step 14\n",
    "# 7. Check that the datatype for the index is datetime using df.info()\n",
    "new_pivot_df.info()"
   ]
  },
  {
   "cell_type": "code",
<<<<<<< HEAD
   "execution_count": 19,
   "metadata": {},
   "outputs": [
    {
     "data": {
      "text/html": [
       "<div>\n",
       "<style scoped>\n",
       "    .dataframe tbody tr th:only-of-type {\n",
       "        vertical-align: middle;\n",
       "    }\n",
       "\n",
       "    .dataframe tbody tr th {\n",
       "        vertical-align: top;\n",
       "    }\n",
       "\n",
       "    .dataframe thead th {\n",
       "        text-align: right;\n",
       "    }\n",
       "</style>\n",
       "<table border=\"1\" class=\"dataframe\">\n",
       "  <thead>\n",
       "    <tr style=\"text-align: right;\">\n",
       "      <th>type</th>\n",
       "      <th>Rural</th>\n",
       "      <th>Suburban</th>\n",
       "      <th>Urban</th>\n",
       "    </tr>\n",
       "    <tr>\n",
       "      <th>date</th>\n",
       "      <th></th>\n",
       "      <th></th>\n",
       "      <th></th>\n",
       "    </tr>\n",
       "  </thead>\n",
       "  <tbody>\n",
       "    <tr>\n",
       "      <th>2019-01-06</th>\n",
       "      <td>187.92</td>\n",
       "      <td>721.60</td>\n",
       "      <td>1661.68</td>\n",
       "    </tr>\n",
       "    <tr>\n",
       "      <th>2019-01-13</th>\n",
       "      <td>67.65</td>\n",
       "      <td>1105.13</td>\n",
       "      <td>2050.43</td>\n",
       "    </tr>\n",
       "    <tr>\n",
       "      <th>2019-01-20</th>\n",
       "      <td>306.00</td>\n",
       "      <td>1218.20</td>\n",
       "      <td>1939.02</td>\n",
       "    </tr>\n",
       "    <tr>\n",
       "      <th>2019-01-27</th>\n",
       "      <td>179.69</td>\n",
       "      <td>1203.28</td>\n",
       "      <td>2129.51</td>\n",
       "    </tr>\n",
       "    <tr>\n",
       "      <th>2019-02-03</th>\n",
       "      <td>333.08</td>\n",
       "      <td>1042.79</td>\n",
       "      <td>2086.94</td>\n",
       "    </tr>\n",
       "  </tbody>\n",
       "</table>\n",
       "</div>"
      ],
      "text/plain": [
       "type         Rural  Suburban    Urban\n",
       "date                                 \n",
       "2019-01-06  187.92    721.60  1661.68\n",
       "2019-01-13   67.65   1105.13  2050.43\n",
       "2019-01-20  306.00   1218.20  1939.02\n",
       "2019-01-27  179.69   1203.28  2129.51\n",
       "2019-02-03  333.08   1042.79  2086.94"
      ]
     },
     "execution_count": 19,
     "metadata": {},
     "output_type": "execute_result"
    }
   ],
=======
   "execution_count": null,
   "metadata": {},
   "outputs": [],
>>>>>>> 2502f29b6dd99339279f9bc69b7e33c4f2f951e7
   "source": [
    "# Step 15\n",
    "# 8. Create a new DataFrame using the \"resample()\" function by week 'W' and get the sum of the fares for each week.\n",
    "#weekly_summary['speed'] = df.speed.resample('W').sum()\n",
    "new_pivot_df=new_pivot_df.resample('W').sum()\n",
    "#new_pivot_df.index.name=None\n",
    "new_pivot_df.head()"
   ]
  },
  {
   "cell_type": "code",
<<<<<<< HEAD
   "execution_count": 20,
   "metadata": {
    "scrolled": true
   },
   "outputs": [
    {
     "data": {
      "image/png": "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\n",
      "text/plain": [
       "<Figure size 1008x360 with 1 Axes>"
      ]
     },
     "metadata": {},
     "output_type": "display_data"
    }
   ],
=======
   "execution_count": null,
   "metadata": {
    "scrolled": true
   },
   "outputs": [],
>>>>>>> 2502f29b6dd99339279f9bc69b7e33c4f2f951e7
   "source": [
    "# Step 16\n",
    "# 8. Using the object-oriented interface method, plot the resample DataFrame using the df.plot() function. \n",
    "# Import the style from Matplotlib.\n",
    "import matplotlib.pyplot as plt\n",
    "from matplotlib import style\n",
    "# Use the graph style fivethirtyeight.\n",
    "style.use('fivethirtyeight')\n",
    "new_pivot_df.plot(figsize=(14,5),fontsize=(10),)\n",
    "plt.title(\"Total Fare By City Type\")\n",
    "plt.ylabel('Fare($USD)', labelpad = 10)\n",
    "plt.ylim(0,2500)\n",
    "plt.savefig(\"analysis/Fig9.png\")\n",
    "plt.show()\n",
    "\n",
    "\n",
    "\n",
    "\n"
   ]
  },
  {
   "cell_type": "code",
   "execution_count": null,
   "metadata": {},
   "outputs": [],
<<<<<<< HEAD
=======
   "source": [
    "#Matlab Method"
   ]
  },
  {
   "cell_type": "code",
   "execution_count": null,
   "metadata": {},
   "outputs": [],
>>>>>>> 2502f29b6dd99339279f9bc69b7e33c4f2f951e7
   "source": []
  }
 ],
 "metadata": {
  "anaconda-cloud": {},
  "kernelspec": {
   "display_name": "Python 3",
   "language": "python",
   "name": "python3"
  },
  "language_info": {
   "codemirror_mode": {
    "name": "ipython",
    "version": 3
   },
   "file_extension": ".py",
   "mimetype": "text/x-python",
   "name": "python",
   "nbconvert_exporter": "python",
   "pygments_lexer": "ipython3",
   "version": "3.8.5"
  }
 },
 "nbformat": 4,
 "nbformat_minor": 2
}
